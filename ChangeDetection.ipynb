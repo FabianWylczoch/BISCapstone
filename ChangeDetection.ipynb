{
 "cells": [
  {
   "cell_type": "code",
   "execution_count": 1,
   "metadata": {},
   "outputs": [],
   "source": [
    "from bs4 import BeautifulSoup as bs\n",
    "import lxml\n",
    "import pandas as pd"
   ]
  },
  {
   "cell_type": "code",
   "execution_count": 2,
   "metadata": {},
   "outputs": [
    {
     "data": {
      "text/html": [
       "<div>\n",
       "<style scoped>\n",
       "    .dataframe tbody tr th:only-of-type {\n",
       "        vertical-align: middle;\n",
       "    }\n",
       "\n",
       "    .dataframe tbody tr th {\n",
       "        vertical-align: top;\n",
       "    }\n",
       "\n",
       "    .dataframe thead th {\n",
       "        text-align: right;\n",
       "    }\n",
       "</style>\n",
       "<table border=\"1\" class=\"dataframe\">\n",
       "  <thead>\n",
       "    <tr style=\"text-align: right;\">\n",
       "      <th></th>\n",
       "      <th>ids20</th>\n",
       "      <th>ids21</th>\n",
       "      <th>type</th>\n",
       "    </tr>\n",
       "  </thead>\n",
       "  <tbody>\n",
       "    <tr>\n",
       "      <th>0</th>\n",
       "      <td>SWS_Can_00237</td>\n",
       "      <td>SWS_Can_00237</td>\n",
       "      <td>unchanged</td>\n",
       "    </tr>\n",
       "    <tr>\n",
       "      <th>1</th>\n",
       "      <td>SWS_Can_00236</td>\n",
       "      <td>SWS_Can_00236</td>\n",
       "      <td>unchanged</td>\n",
       "    </tr>\n",
       "    <tr>\n",
       "      <th>2</th>\n",
       "      <td>SWS_Can_00238</td>\n",
       "      <td>SWS_Can_00238</td>\n",
       "      <td>unchanged</td>\n",
       "    </tr>\n",
       "    <tr>\n",
       "      <th>3</th>\n",
       "      <td>SWS_Can_00239</td>\n",
       "      <td>SWS_Can_00239</td>\n",
       "      <td>unchanged</td>\n",
       "    </tr>\n",
       "    <tr>\n",
       "      <th>4</th>\n",
       "      <td>SWS_Can_00240</td>\n",
       "      <td>SWS_Can_00240</td>\n",
       "      <td>unchanged</td>\n",
       "    </tr>\n",
       "  </tbody>\n",
       "</table>\n",
       "</div>"
      ],
      "text/plain": [
       "           ids20          ids21       type\n",
       "0  SWS_Can_00237  SWS_Can_00237  unchanged\n",
       "1  SWS_Can_00236  SWS_Can_00236  unchanged\n",
       "2  SWS_Can_00238  SWS_Can_00238  unchanged\n",
       "3  SWS_Can_00239  SWS_Can_00239  unchanged\n",
       "4  SWS_Can_00240  SWS_Can_00240  unchanged"
      ]
     },
     "execution_count": 2,
     "metadata": {},
     "output_type": "execute_result"
    }
   ],
   "source": [
    "with open(\"UC 3/etl_generated/R20-11/SWS_CANDriver_011/zz_generated/AUTOSAR_SWS_CANDriver_resolved.arxml\", \"r\") as file:\n",
    "    handler20 = file.read()\n",
    "\n",
    "with open(\"UC 3/etl_generated/R21-11/SWS_CANDriver_011/zz_generated/AUTOSAR_SWS_CANDriver_resolved.arxml\", \"r\") as file:\n",
    "    handler21 = file.read()\n",
    "\n",
    "soup20 = bs(handler20, \"lxml-xml\")\n",
    "list_of_all_ids20 = soup20.find_all(\"SHORT-NAME\")\n",
    "soup21 = bs(handler21, \"lxml-xml\")\n",
    "list_of_all_ids21 = soup21.find_all(\"SHORT-NAME\")\n",
    "\n",
    "list_of_all_ids20 = [id.getText() for id in list_of_all_ids20]\n",
    "list_of_all_ids21 = [id.getText() for id in list_of_all_ids21]\n",
    "\n",
    "df20 = pd.DataFrame({\"ids20\": list_of_all_ids20})\n",
    "df21 = pd.DataFrame({\"ids21\": list_of_all_ids21})\n",
    "df_merged = pd.merge(df20, df21, how = \"outer\", left_on = \"ids20\", right_on = \"ids21\")\n",
    "df_merged[\"type\"] = \"unchanged\"\n",
    "df_merged[\"type\"][df_merged.ids21.isna()] = \"delete\"\n",
    "df_merged[\"type\"][df_merged.ids20.isna()] = \"new\"\n",
    "df_merged.head()"
   ]
  },
  {
   "attachments": {},
   "cell_type": "markdown",
   "metadata": {},
   "source": [
    "# New Part: Change Detection"
   ]
  },
  {
   "cell_type": "code",
   "execution_count": 4,
   "metadata": {},
   "outputs": [],
   "source": [
    "data = df_merged.copy()\n",
    "data = data.loc[data.type == \"unchanged\"]"
   ]
  }
 ],
 "metadata": {
  "kernelspec": {
   "display_name": "unienv",
   "language": "python",
   "name": "python3"
  },
  "language_info": {
   "codemirror_mode": {
    "name": "ipython",
    "version": 3
   },
   "file_extension": ".py",
   "mimetype": "text/x-python",
   "name": "python",
   "nbconvert_exporter": "python",
   "pygments_lexer": "ipython3",
   "version": "3.8.15"
  },
  "orig_nbformat": 4,
  "vscode": {
   "interpreter": {
    "hash": "f38b949447149ea0cfab77d7ef91d4ded9cd69cfa8714290ff63f8d71753623c"
   }
  }
 },
 "nbformat": 4,
 "nbformat_minor": 2
}
