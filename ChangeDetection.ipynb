{
   "cells": [
      {
         "cell_type": "code",
         "execution_count": null,
         "metadata": {},
         "outputs": [],
         "source": [
            "from bs4 import BeautifulSoup as bs\n",
            "import lxml\n",
            "import pandas as pd\n",
            "import numpy as np\n",
            "\n",
            "pd.set_option('display.max_columns', 500)\n",
            "np.set_printoptions(threshold=sys.maxsize)\n",
            "pd.set_option('display.max_rows', sys.maxsize)\n",
            "pd.set_option('display.max_colwidth', None)"
         ]
      },
      {
         "cell_type": "code",
         "execution_count": null,
         "metadata": {},
         "outputs": [],
         "source": [
            "with open(\"UC 3/etl_generated/R21-11/SWS_CANInterface_012/zz_generated/AUTOSAR_SWS_CANInterface_resolved.arxml\", \"r\") as file:\n",
            "    handlerA = file.read()\n",
            "\n",
            "with open(\"UC 3/etl_generated/R22-11/SWS_CANInterface_012/zz_generated/AUTOSAR_SWS_CANInterface_resolved.arxml\", \"r\") as file:\n",
            "    handlerB = file.read()\n",
            "\n",
            "soupA = bs(handlerA, \"lxml-xml\")\n",
            "list_of_all_idsA = soupA.find_all(\"SHORT-NAME\")\n",
            "soupB = bs(handlerB, \"lxml-xml\")\n",
            "list_of_all_idsB = soupB.find_all(\"SHORT-NAME\")\n",
            "\n",
            "list_of_all_idsA = [id.getText() for id in list_of_all_idsA]\n",
            "list_of_all_idsB = [id.getText() for id in list_of_all_idsB]\n",
            "\n",
            "dfA = pd.DataFrame({\"idsA\": list_of_all_idsA})\n",
            "dfB = pd.DataFrame({\"idsB\": list_of_all_idsB})\n",
            "df_merged = pd.merge(dfA, dfB, how = \"outer\", left_on = \"idsA\", right_on = \"idsB\")\n",
            "df_merged[\"type\"] = \"unchanged\"\n",
            "df_merged[\"type\"][df_merged.idsB.isna()] = \"deleted\"\n",
            "df_merged[\"type\"][df_merged.idsA.isna()] = \"new\"\n",
            "df_merged.head()"
         ]
      },
      {
         "cell_type": "code",
         "execution_count": null,
         "metadata": {},
         "outputs": [],
         "source": []
      },
      {
         "attachments": {},
         "cell_type": "markdown",
         "metadata": {},
         "source": [
            "# New Part: Change Detection"
         ]
      },
      {
         "attachments": {},
         "cell_type": "markdown",
         "metadata": {},
         "source": [
            "Retrieve all strings for given SHORT-NAME"
         ]
      },
      {
         "cell_type": "code",
         "execution_count": 102,
         "metadata": {},
         "outputs": [
            {
               "data": {
                  "text/html": [
                     "<div>\n",
                     "<style scoped>\n",
                     "    .dataframe tbody tr th:only-of-type {\n",
                     "        vertical-align: middle;\n",
                     "    }\n",
                     "\n",
                     "    .dataframe tbody tr th {\n",
                     "        vertical-align: top;\n",
                     "    }\n",
                     "\n",
                     "    .dataframe thead th {\n",
                     "        text-align: right;\n",
                     "    }\n",
                     "</style>\n",
                     "<table border=\"1\" class=\"dataframe\">\n",
                     "  <thead>\n",
                     "    <tr style=\"text-align: right;\">\n",
                     "      <th></th>\n",
                     "      <th>idsA</th>\n",
                     "      <th>idsB</th>\n",
                     "      <th>type</th>\n",
                     "      <th>Text Release A</th>\n",
                     "      <th>Text Release B</th>\n",
                     "    </tr>\n",
                     "  </thead>\n",
                     "  <tbody>\n",
                     "    <tr>\n",
                     "      <th>0</th>\n",
                     "      <td>SWS_CANIF_00378</td>\n",
                     "      <td>SWS_CANIF_00378</td>\n",
                     "      <td>unchanged</td>\n",
                     "      <td>[\\nCanIf shall access the location of the API ...</td>\n",
                     "      <td>[\\nCanIf shall access the location of the API ...</td>\n",
                     "    </tr>\n",
                     "    <tr>\n",
                     "      <th>1</th>\n",
                     "      <td>SWS_CANIF_00672</td>\n",
                     "      <td>SWS_CANIF_00672</td>\n",
                     "      <td>unchanged</td>\n",
                     "      <td>[The header file CanIf.h only contains extern ...</td>\n",
                     "      <td>[The header file CanIf.h only contains extern ...</td>\n",
                     "    </tr>\n",
                     "    <tr>\n",
                     "      <th>2</th>\n",
                     "      <td>SWS_CANIF_00903</td>\n",
                     "      <td>SWS_CANIF_00903</td>\n",
                     "      <td>unchanged</td>\n",
                     "      <td>[\\nCanIf shall include the header file Mirror....</td>\n",
                     "      <td>[\\nCanIf shall include the header file Mirror....</td>\n",
                     "    </tr>\n",
                     "    <tr>\n",
                     "      <th>3</th>\n",
                     "      <td>SWS_CANIF_00023</td>\n",
                     "      <td>SWS_CANIF_00023</td>\n",
                     "      <td>unchanged</td>\n",
                     "      <td>[\\nCanIf shall avoid direct access to hardware...</td>\n",
                     "      <td>[\\nCanIf shall avoid direct access to hardware...</td>\n",
                     "    </tr>\n",
                     "    <tr>\n",
                     "      <th>4</th>\n",
                     "      <td>SWS_CANIF_00662</td>\n",
                     "      <td>SWS_CANIF_00662</td>\n",
                     "      <td>unchanged</td>\n",
                     "      <td>[\\nCanIf shall use two types of HOH to enable ...</td>\n",
                     "      <td>[\\nCanIf shall use two types of HOH to enable ...</td>\n",
                     "    </tr>\n",
                     "    <tr>\n",
                     "      <th>...</th>\n",
                     "      <td>...</td>\n",
                     "      <td>...</td>\n",
                     "      <td>...</td>\n",
                     "      <td>...</td>\n",
                     "      <td>...</td>\n",
                     "    </tr>\n",
                     "    <tr>\n",
                     "      <th>508</th>\n",
                     "      <td>NaN</td>\n",
                     "      <td>ECUC_CanIf_00860</td>\n",
                     "      <td>new</td>\n",
                     "      <td></td>\n",
                     "      <td>[\\nSWS Item\\n, \\nECUC_CanIf_00860\\n, \\nContain...</td>\n",
                     "    </tr>\n",
                     "    <tr>\n",
                     "      <th>509</th>\n",
                     "      <td>NaN</td>\n",
                     "      <td>ECUC_CanIf_00864</td>\n",
                     "      <td>new</td>\n",
                     "      <td></td>\n",
                     "      <td>[\\nSWS Item\\n, \\nECUC_CanIf_00864\\n, \\nParamet...</td>\n",
                     "    </tr>\n",
                     "    <tr>\n",
                     "      <th>510</th>\n",
                     "      <td>NaN</td>\n",
                     "      <td>ECUC_CanIf_00861</td>\n",
                     "      <td>new</td>\n",
                     "      <td></td>\n",
                     "      <td>[\\nSWS Item\\n, \\nECUC_CanIf_00861\\n, \\nParamet...</td>\n",
                     "    </tr>\n",
                     "    <tr>\n",
                     "      <th>511</th>\n",
                     "      <td>NaN</td>\n",
                     "      <td>ECUC_CanIf_00863</td>\n",
                     "      <td>new</td>\n",
                     "      <td></td>\n",
                     "      <td>[\\nSWS Item\\n, \\nECUC_CanIf_00863\\n, \\nParamet...</td>\n",
                     "    </tr>\n",
                     "    <tr>\n",
                     "      <th>512</th>\n",
                     "      <td>NaN</td>\n",
                     "      <td>ECUC_CanIf_00862</td>\n",
                     "      <td>new</td>\n",
                     "      <td></td>\n",
                     "      <td>[\\nSWS Item\\n, \\nECUC_CanIf_00862\\n, \\nParamet...</td>\n",
                     "    </tr>\n",
                     "  </tbody>\n",
                     "</table>\n",
                     "<p>513 rows × 5 columns</p>\n",
                     "</div>"
                  ],
                  "text/plain": [
                     "                idsA              idsB       type  \\\n",
                     "0    SWS_CANIF_00378   SWS_CANIF_00378  unchanged   \n",
                     "1    SWS_CANIF_00672   SWS_CANIF_00672  unchanged   \n",
                     "2    SWS_CANIF_00903   SWS_CANIF_00903  unchanged   \n",
                     "3    SWS_CANIF_00023   SWS_CANIF_00023  unchanged   \n",
                     "4    SWS_CANIF_00662   SWS_CANIF_00662  unchanged   \n",
                     "..               ...               ...        ...   \n",
                     "508              NaN  ECUC_CanIf_00860        new   \n",
                     "509              NaN  ECUC_CanIf_00864        new   \n",
                     "510              NaN  ECUC_CanIf_00861        new   \n",
                     "511              NaN  ECUC_CanIf_00863        new   \n",
                     "512              NaN  ECUC_CanIf_00862        new   \n",
                     "\n",
                     "                                        Text Release A  \\\n",
                     "0    [\\nCanIf shall access the location of the API ...   \n",
                     "1    [The header file CanIf.h only contains extern ...   \n",
                     "2    [\\nCanIf shall include the header file Mirror....   \n",
                     "3    [\\nCanIf shall avoid direct access to hardware...   \n",
                     "4    [\\nCanIf shall use two types of HOH to enable ...   \n",
                     "..                                                 ...   \n",
                     "508                                                      \n",
                     "509                                                      \n",
                     "510                                                      \n",
                     "511                                                      \n",
                     "512                                                      \n",
                     "\n",
                     "                                        Text Release B  \n",
                     "0    [\\nCanIf shall access the location of the API ...  \n",
                     "1    [The header file CanIf.h only contains extern ...  \n",
                     "2    [\\nCanIf shall include the header file Mirror....  \n",
                     "3    [\\nCanIf shall avoid direct access to hardware...  \n",
                     "4    [\\nCanIf shall use two types of HOH to enable ...  \n",
                     "..                                                 ...  \n",
                     "508  [\\nSWS Item\\n, \\nECUC_CanIf_00860\\n, \\nContain...  \n",
                     "509  [\\nSWS Item\\n, \\nECUC_CanIf_00864\\n, \\nParamet...  \n",
                     "510  [\\nSWS Item\\n, \\nECUC_CanIf_00861\\n, \\nParamet...  \n",
                     "511  [\\nSWS Item\\n, \\nECUC_CanIf_00863\\n, \\nParamet...  \n",
                     "512  [\\nSWS Item\\n, \\nECUC_CanIf_00862\\n, \\nParamet...  \n",
                     "\n",
                     "[513 rows x 5 columns]"
                  ]
               },
               "execution_count": 102,
               "metadata": {},
               "output_type": "execute_result"
            }
         ],
         "source": [
            "df = df_merged.copy()\n",
            "df['Text Release A']=\"\"\n",
            "df['Text Release B']=\"\"\n",
            "soup = soupA\n",
            "\n",
            "for row in df.iterrows():\n",
            "    if (soup.find('SHORT-NAME', string=row[1][0])) and (not pd.isna(row[1][0])):\n",
            "        df['Text Release A'].iloc[row[0]] = [x.getText() for x in soup.find('SHORT-NAME', string=row[1][0]).parent.find_all('L-1')]    \n",
            "\n",
            "soup = soupB\n",
            "for row in df.iterrows():\n",
            "    if (soup.find('SHORT-NAME', string=row[1][1])) and (not pd.isna(row[1][1])):\n",
            "        df['Text Release B'].iloc[row[0]] = [x.getText() for x in soup.find('SHORT-NAME', string=row[1][1]).parent.find_all('L-1')]\n",
            "df"
         ]
      },
      {
         "attachments": {},
         "cell_type": "markdown",
         "metadata": {},
         "source": [
            "Example IDs:\n",
            "\n",
            "SWS_CANIF_00378 --> no change in content\n",
            "SWS_CANIF_00851 --> content changed\n",
            "ECUC_CanIf_00619 --> content only slightly changed, but different structure"
         ]
      },
      {
         "cell_type": "code",
         "execution_count": null,
         "metadata": {},
         "outputs": [],
         "source": [
            "import xml.etree.ElementTree as ET\n",
            "from lxml import etree"
         ]
      },
      {
         "cell_type": "code",
         "execution_count": null,
         "metadata": {},
         "outputs": [],
         "source": [
            "tree = etree.parse('UC 3/etl_generated/R21-11/SWS_CANInterface_012/zz_generated/AUTOSAR_SWS_CANInterface_resolved.arxml')\n",
            "ids20simple = tree.xpath(\"//x:REQUIREMENT[count(.//x:L-1) = 1]/x:TRACE/x:SHORT-NAME/text()\", namespaces={'x': 'http://autosar.org/schema/r4.0'})\n",
            "text20simple = tree.xpath(\"//x:REQUIREMENT[count(.//x:L-1) = 1]//x:L-1/text()\", namespaces={'x': 'http://autosar.org/schema/r4.0'})"
         ]
      },
      {
         "cell_type": "code",
         "execution_count": null,
         "metadata": {},
         "outputs": [],
         "source": [
            "text20simple"
         ]
      },
      {
         "cell_type": "code",
         "execution_count": null,
         "metadata": {},
         "outputs": [],
         "source": [
            "data20simple = pd.DataFrame({\"ids20\": ids20simple, \"text20\": text20simple})\n",
            "data20simple = data20simple.loc[data20simple[\"ids20\"].str[:4] != \"ECUC\"]"
         ]
      },
      {
         "cell_type": "code",
         "execution_count": null,
         "metadata": {},
         "outputs": [],
         "source": [
            "data20simple"
         ]
      },
      {
         "cell_type": "code",
         "execution_count": null,
         "metadata": {},
         "outputs": [],
         "source": [
            "tree = etree.parse('UC 3/etl_generated/R22-11/SWS_CANInterface_012/zz_generated/AUTOSAR_SWS_CANInterface_resolved.arxml')\n",
            "ids21simple = tree.xpath(\"//x:REQUIREMENT[count(.//x:L-1) = 1]/x:TRACE/x:SHORT-NAME/text()\", namespaces={'x': 'http://autosar.org/schema/r4.0'})\n",
            "text21simple = tree.xpath(\"//x:REQUIREMENT[count(.//x:L-1) = 1]//x:L-1/text()\", namespaces={'x': 'http://autosar.org/schema/r4.0'})"
         ]
      },
      {
         "cell_type": "code",
         "execution_count": null,
         "metadata": {},
         "outputs": [],
         "source": [
            "data21simple = pd.DataFrame({\"ids21\": ids21simple, \"text21\": text21simple})\n",
            "data21simple = data21simple.loc[data21simple[\"ids21\"].str[:4] != \"ECUC\"]"
         ]
      },
      {
         "cell_type": "code",
         "execution_count": null,
         "metadata": {},
         "outputs": [],
         "source": [
            "data21simple"
         ]
      },
      {
         "cell_type": "code",
         "execution_count": null,
         "metadata": {},
         "outputs": [],
         "source": [
            "datamergedsimple = pd.merge(data20simple, data21simple, how=\"outer\", left_on=\"ids20\", right_on=\"ids21\")"
         ]
      },
      {
         "cell_type": "code",
         "execution_count": null,
         "metadata": {},
         "outputs": [],
         "source": [
            "datamergedsimple[\"type\"] = \"unchanged\"\n",
            "datamergedsimple[\"type\"].loc[datamergedsimple.ids21.isna()] = \"delete\"\n",
            "datamergedsimple[\"type\"].loc[datamergedsimple.ids20.isna()] = \"new\""
         ]
      },
      {
         "cell_type": "code",
         "execution_count": null,
         "metadata": {},
         "outputs": [],
         "source": [
            "datamergedsimple.loc[0, \"text21\"] = \"asdf\""
         ]
      },
      {
         "cell_type": "code",
         "execution_count": null,
         "metadata": {},
         "outputs": [],
         "source": [
            "datamergedsimple.loc[(datamergedsimple[\"type\"] == \"unchanged\") & (datamergedsimple[\"text20\"] != datamergedsimple[\"text21\"]), \"type\"] = \"changed\""
         ]
      },
      {
         "cell_type": "code",
         "execution_count": null,
         "metadata": {},
         "outputs": [],
         "source": [
            "datamergedsimple.loc[datamergedsimple[\"ids20\"] == \"SWS_CANIF_00378\"]"
         ]
      },
      {
         "attachments": {},
         "cell_type": "markdown",
         "metadata": {},
         "source": [
            "## BS4 Table"
         ]
      },
      {
         "cell_type": "code",
         "execution_count": 492,
         "metadata": {},
         "outputs": [],
         "source": [
            "with open(\"UC 3/etl_generated/R21-11/SWS_CANInterface_012/zz_generated/AUTOSAR_SWS_CANInterface_resolved.arxml\", \"r\") as file:\n",
            "    handlerA = file.read()\n",
            "\n",
            "with open(\"UC 3/etl_generated/R22-11/SWS_CANInterface_012/zz_generated/AUTOSAR_SWS_CANInterface_resolved.arxml\", \"r\") as file:\n",
            "    handlerB = file.read()\n",
            "\n",
            "soupA = bs(handlerA, \"lxml-xml\")\n",
            "list_of_all_idsA = soupA.find_all(\"SHORT-NAME\")\n",
            "soupB = bs(handlerB, \"lxml-xml\")\n",
            "list_of_all_idsB = soupB.find_all(\"SHORT-NAME\")\n",
            "\n",
            "list_of_all_idsA = [id.getText() for id in list_of_all_idsA]\n",
            "list_of_all_idsB = [id.getText() for id in list_of_all_idsB]\n",
            "\n",
            "dfA = pd.DataFrame({\"idsA\": list_of_all_idsA})\n",
            "dfB = pd.DataFrame({\"idsB\": list_of_all_idsB})\n",
            "df_merged = pd.merge(dfA, dfB, how = \"outer\", left_on = \"idsA\", right_on = \"idsB\")\n",
            "df_merged[\"type\"] = \"unchanged\"\n",
            "df_merged[\"type\"][df_merged.idsB.isna()] = \"deleted\"\n",
            "df_merged[\"type\"][df_merged.idsA.isna()] = \"new\"\n",
            "\n",
            "df = df_merged.copy()\n",
            "\n",
            "for row in df.iterrows():\n",
            "    if (soup.find('SHORT-NAME', string=row[1][0])) and (not pd.isna(row[1][0])):\n",
            "        df['Text Release A'].iloc[row[0]] = [x.getText() for x in soup.find('SHORT-NAME', string=row[1][0]).parent.find_all('L-1')]    \n",
            "\n",
            "soup = soupB\n",
            "for row in df.iterrows():\n",
            "    if (soup.find('SHORT-NAME', string=row[1][1])) and (not pd.isna(row[1][1])):\n",
            "        df['Text Release B'].iloc[row[0]] = [x.getText() for x in soup.find('SHORT-NAME', string=row[1][1]).parent.find_all('L-1')]\n"
         ]
      },
      {
         "attachments": {},
         "cell_type": "markdown",
         "metadata": {},
         "source": [
            "## Same table with xpath"
         ]
      },
      {
         "cell_type": "code",
         "execution_count": 499,
         "metadata": {},
         "outputs": [],
         "source": [
            "treeA = etree.parse(\"UC 3/etl_generated/R21-11/SWS_CANInterface_012/zz_generated/AUTOSAR_SWS_CANInterface_resolved.arxml\")\n",
            "treeB = etree.parse(\"UC 3/etl_generated/R22-11/SWS_CANInterface_012/zz_generated/AUTOSAR_SWS_CANInterface_resolved.arxml\")\n",
            "\n",
            "idsA = treeA.xpath(f\"//x:SHORT-NAME/text()\", namespaces={'x': 'http://autosar.org/schema/r4.0'})\n",
            "idsB = treeB.xpath(f\"//x:SHORT-NAME/text()\", namespaces={'x': 'http://autosar.org/schema/r4.0'})\n",
            "\n",
            "dfA = pd.DataFrame({\"idsA\": idsA})\n",
            "dfB = pd.DataFrame({\"idsB\": idsB})\n",
            "df = pd.merge(dfA, dfB, how = \"outer\", left_on = \"idsA\", right_on = \"idsB\")\n",
            "df[\"type\"] = \"unchanged\"\n",
            "df[\"type\"][df_merged.idsB.isna()] = \"deleted\"\n",
            "df[\"type\"][df_merged.idsA.isna()] = \"new\"\n",
            "\n",
            "textA = []\n",
            "structureA = []\n",
            "for id in df[\"idsA\"]:\n",
            "    textA.append(tree.xpath(f\"//x:SHORT-NAME[./text() = '{id}']/..//x:L-1//text()\", namespaces={'x': 'http://autosar.org/schema/r4.0'}))\n",
            "    structureA.append([elem.tag[32:] for elem in treeA.xpath(f\"//x:SHORT-NAME[./text() = '{id}']/../..//*\", namespaces={'x': 'http://autosar.org/schema/r4.0'})])\n",
            "\n",
            "textB = []\n",
            "structureB = []\n",
            "for id in df[\"idsB\"]:\n",
            "    textB.append(tree.xpath(f\"//x:SHORT-NAME[./text() = '{id}']/..//x:L-1//text()\", namespaces={'x': 'http://autosar.org/schema/r4.0'}))\n",
            "    structureB.append([elem.tag[32:] for elem in treeB.xpath(f\"//x:SHORT-NAME[./text() = '{id}']/../..//*\", namespaces={'x': 'http://autosar.org/schema/r4.0'})])\n",
            "\n",
            "df[\"Text Release A\"] = textA\n",
            "df[\"Text Release B\"] = textB\n",
            "\n",
            "df[\"structureA\"] = structureA\n",
            "df[\"structureB\"] = structureB\n"
         ]
      },
      {
         "cell_type": "code",
         "execution_count": null,
         "metadata": {},
         "outputs": [],
         "source": [
            "# Add Structure to compare table\n",
            "# df[\"structureA\"] = [getStructure(\"UC 3/etl_generated/R21-11/SWS_CANInterface_012/zz_generated/AUTOSAR_SWS_CANInterface_resolved.arxml\", id) for id in df[\"idsA\"]]\n",
            "# df[\"structureB\"] = [getStructure(\"UC 3/etl_generated/R22-11/SWS_CANInterface_012/zz_generated/AUTOSAR_SWS_CANInterface_resolved.arxml\", id) for id in df[\"idsB\"]]"
         ]
      },
      {
         "cell_type": "code",
         "execution_count": null,
         "metadata": {},
         "outputs": [],
         "source": [
            "df.loc[df[\"structureA\"] != df[\"structureB\"]]"
         ]
      },
      {
         "attachments": {},
         "cell_type": "markdown",
         "metadata": {},
         "source": [
            "# Get different tag formats"
         ]
      },
      {
         "cell_type": "code",
         "execution_count": null,
         "metadata": {},
         "outputs": [],
         "source": [
            "def getStructure(tablepath, id):\n",
            "    tree = etree.parse(tablepath)\n",
            "    return [elem.tag[32:] for elem in tree.xpath(f\"//x:SHORT-NAME[./text() = '{id}']/../..//*\", namespaces={'x': 'http://autosar.org/schema/r4.0'})]"
         ]
      },
      {
         "cell_type": "code",
         "execution_count": null,
         "metadata": {},
         "outputs": [],
         "source": [
            "getStructure(\"UC 3/etl_generated/R21-11/SWS_CANInterface_012/zz_generated/AUTOSAR_SWS_CANInterface_resolved.arxml\", 'SWS_CANIF_00378')"
         ]
      },
      {
         "cell_type": "code",
         "execution_count": null,
         "metadata": {},
         "outputs": [],
         "source": [
            "tree = etree.parse(\"UC 3/etl_generated/R21-11/SWS_CANInterface_012/zz_generated/AUTOSAR_SWS_CANInterface_resolved.arxml\")\n",
            "[elem.tag[32:] for elem in tree.xpath(f\"//x:SHORT-NAME[./text() = SWS_CANIF_00378]/../..//*\", namespaces={'x': 'http://autosar.org/schema/r4.0'})]\n"
         ]
      },
      {
         "cell_type": "code",
         "execution_count": null,
         "metadata": {},
         "outputs": [],
         "source": [
            "tree.xpath(f\"//x:SHORT-NAME[./text() = 'SWS_CANIF_00378']/../..//*\", namespaces={'x': 'http://autosar.org/schema/r4.0'})"
         ]
      },
      {
         "cell_type": "code",
         "execution_count": null,
         "metadata": {},
         "outputs": [],
         "source": [
            "[elem for elem in tree.iter() if elem.tag == \"{http://autosar.org/schema/r4.0}TRACE\"]"
         ]
      },
      {
         "cell_type": "code",
         "execution_count": null,
         "metadata": {},
         "outputs": [],
         "source": [
            "for elem in tree.iter():\n",
            "    if elem.tag == \"{http://autosar.org/schema/r4.0}TRACE\":\n",
            "        print(elem.tag)"
         ]
      },
      {
         "cell_type": "code",
         "execution_count": null,
         "metadata": {},
         "outputs": [],
         "source": [
            "tree.findall(\"{http://autosar.org/schema/r4.0}REQUIREMENTS\")"
         ]
      },
      {
         "cell_type": "code",
         "execution_count": null,
         "metadata": {},
         "outputs": [],
         "source": []
      },
      {
         "cell_type": "code",
         "execution_count": null,
         "metadata": {},
         "outputs": [],
         "source": [
            "def getStructures(tablepath):\n",
            "    tree = etree.parse(tablepath)\n",
            "\n",
            "    ls = []\n",
            "    struct = []\n",
            "    for tag in [elem.tag[32:] for elem in tree.xpath(\"//*\", namespaces={'x': 'http://autosar.org/schema/r4.0'})][1:]:\n",
            "        if tag == \"REQUIREMENT\":\n",
            "            ls.append(struct)\n",
            "            struct = [tag]\n",
            "        elif tag != \"REQUIREMENT\": \n",
            "                struct.append(tag)\n",
            "    ls = ls[1:]\n",
            "\n",
            "    set = []\n",
            "    for x in ls:\n",
            "        if x not in set:\n",
            "            set.append(x)\n",
            "\n",
            "    counts = []\n",
            "    for struct in set:\n",
            "        counts.append(ls.count(struct))\n",
            "\n",
            "    rel = []\n",
            "    for count in counts:\n",
            "        rel.append(count/sum(counts))\n",
            "\n",
            "    structtable = pd.DataFrame({\"structure\": set, \"count\": counts, \"relative\": rel})\n",
            "\n",
            "    return structtable"
         ]
      },
      {
         "cell_type": "code",
         "execution_count": null,
         "metadata": {},
         "outputs": [],
         "source": [
            "s20 = getStructures('UC 3/etl_generated/R20-11/SWS_CANDriver_011/zz_generated/AUTOSAR_SWS_CANDriver_resolved.arxml')\n",
            "s20.loc[s20.relative > 0.15]"
         ]
      },
      {
         "cell_type": "code",
         "execution_count": null,
         "metadata": {},
         "outputs": [],
         "source": [
            "s21 = getStructures('UC 3/etl_generated/R21-11/SWS_CANDriver_011/zz_generated/AUTOSAR_SWS_CANDriver_resolved.arxml')\n",
            "s21.loc[s21.relative > 0.15]"
         ]
      },
      {
         "cell_type": "code",
         "execution_count": null,
         "metadata": {},
         "outputs": [],
         "source": [
            "s22 = getStructures('UC 3/etl_generated/R22-11/SWS_CANDriver_011/zz_generated/AUTOSAR_SWS_CANDriver_resolved.arxml')\n",
            "s22.loc[s22.relative > 0.15]"
         ]
      },
      {
         "cell_type": "code",
         "execution_count": null,
         "metadata": {},
         "outputs": [],
         "source": [
            "s20 = getStructures('UC 3/etl_generated/R20-11/SWS_CANDriver_011/zz_generated/AUTOSAR_SWS_CANDriver_resolved.arxml')\n",
            "\n",
            "# Filter StructureTable by number of L-1 tags\n",
            "structs = []\n",
            "counts = []\n",
            "relatives = []\n",
            "for index, row in s20.iterrows():\n",
            "    if row.structure.count(\"L-1\") == 1:\n",
            "        structs.append(row.structure)\n",
            "        counts.append(row[1])\n",
            "        relatives.append(row.relative)\n",
            "df = pd.DataFrame({\"structure\": structs, \"count\": counts, \"relative\": relatives})"
         ]
      },
      {
         "cell_type": "code",
         "execution_count": null,
         "metadata": {},
         "outputs": [],
         "source": [
            "sum(df.relative)"
         ]
      },
      {
         "cell_type": "code",
         "execution_count": null,
         "metadata": {},
         "outputs": [],
         "source": [
            "df"
         ]
      },
      {
         "cell_type": "code",
         "execution_count": null,
         "metadata": {},
         "outputs": [],
         "source": [
            "s20"
         ]
      },
      {
         "cell_type": "code",
         "execution_count": null,
         "metadata": {},
         "outputs": [],
         "source": []
      }
   ],
   "metadata": {
      "kernelspec": {
         "display_name": "Python 3",
         "language": "python",
         "name": "python3"
      },
      "language_info": {
         "codemirror_mode": {
            "name": "ipython",
            "version": 3
         },
         "file_extension": ".py",
         "mimetype": "text/x-python",
         "name": "python",
         "nbconvert_exporter": "python",
         "pygments_lexer": "ipython3",
         "version": "3.10.9"
      },
      "orig_nbformat": 4,
      "vscode": {
         "interpreter": {
            "hash": "787eb0f3979c156ac8e243f9980d85c358d4cee6a99f419a4855b7a036b6e2e0"
         }
      }
   },
   "nbformat": 4,
   "nbformat_minor": 2
}
