{
 "cells": [
  {
   "cell_type": "code",
   "execution_count": null,
   "metadata": {},
   "outputs": [],
   "source": [
    "from bs4 import BeautifulSoup as bs\n",
    "import lxml\n",
    "import pandas as pd\n",
    "import numpy as np\n",
    "\n",
    "pd.set_option('display.max_columns', 500)\n",
    "np.set_printoptions(threshold=sys.maxsize)\n",
    "pd.set_option('display.max_rows', sys.maxsize)\n",
    "pd.set_option('display.max_colwidth', None)"
   ]
  },
  {
   "cell_type": "code",
   "execution_count": null,
   "metadata": {},
   "outputs": [],
   "source": [
    "with open(\"UC 3/etl_generated/R20-11/SWS_CANDriver_011/zz_generated/AUTOSAR_SWS_CANDriver_resolved.arxml\", \"r\") as file:\n",
    "    handler20 = file.read()\n",
    "\n",
    "with open(\"UC 3/etl_generated/R21-11/SWS_CANDriver_011/zz_generated/AUTOSAR_SWS_CANDriver_resolved.arxml\", \"r\") as file:\n",
    "    handler21 = file.read()\n",
    "\n",
    "soup20 = bs(handler20, \"lxml-xml\")\n",
    "list_of_all_ids20 = soup20.find_all(\"SHORT-NAME\")\n",
    "soup21 = bs(handler21, \"lxml-xml\")\n",
    "list_of_all_ids21 = soup21.find_all(\"SHORT-NAME\")\n",
    "\n",
    "list_of_all_ids20 = [id.getText() for id in list_of_all_ids20]\n",
    "list_of_all_ids21 = [id.getText() for id in list_of_all_ids21]\n",
    "\n",
    "df20 = pd.DataFrame({\"ids20\": list_of_all_ids20})\n",
    "df21 = pd.DataFrame({\"ids21\": list_of_all_ids21})\n",
    "df_merged = pd.merge(df20, df21, how = \"outer\", left_on = \"ids20\", right_on = \"ids21\")\n",
    "df_merged[\"type\"] = \"unchanged\"\n",
    "df_merged[\"type\"][df_merged.ids21.isna()] = \"delete\"\n",
    "df_merged[\"type\"][df_merged.ids20.isna()] = \"new\"\n",
    "df_merged.head()"
   ]
  },
  {
   "cell_type": "code",
   "execution_count": null,
   "metadata": {},
   "outputs": [],
   "source": []
  },
  {
   "attachments": {},
   "cell_type": "markdown",
   "metadata": {},
   "source": [
    "# New Part: Change Detection"
   ]
  },
  {
   "cell_type": "code",
   "execution_count": null,
   "metadata": {},
   "outputs": [],
   "source": [
    "import xml.etree.ElementTree as ET\n",
    "from lxml import etree"
   ]
  },
  {
   "cell_type": "code",
   "execution_count": null,
   "metadata": {},
   "outputs": [],
   "source": [
    "tree = etree.parse('UC 3/etl_generated/R21-11/SWS_CANInterface_012/zz_generated/AUTOSAR_SWS_CANInterface_resolved.arxml')\n",
    "ids20simple = tree.xpath(\"//x:REQUIREMENT[count(.//x:L-1) = 1]/x:TRACE/x:SHORT-NAME/text()\", namespaces={'x': 'http://autosar.org/schema/r4.0'})\n",
    "text20simple = tree.xpath(\"//x:REQUIREMENT[count(.//x:L-1) = 1]//x:L-1/text()\", namespaces={'x': 'http://autosar.org/schema/r4.0'})"
   ]
  },
  {
   "cell_type": "code",
   "execution_count": null,
   "metadata": {},
   "outputs": [],
   "source": [
    "text20simple"
   ]
  },
  {
   "cell_type": "code",
   "execution_count": null,
   "metadata": {},
   "outputs": [],
   "source": [
    "data20simple = pd.DataFrame({\"ids20\": ids20simple, \"text20\": text20simple})\n",
    "data20simple = data20simple.loc[data20simple[\"ids20\"].str[:4] != \"ECUC\"]"
   ]
  },
  {
   "cell_type": "code",
   "execution_count": null,
   "metadata": {},
   "outputs": [],
   "source": [
    "data20simple"
   ]
  },
  {
   "cell_type": "code",
   "execution_count": null,
   "metadata": {},
   "outputs": [],
   "source": [
    "tree = etree.parse('UC 3/etl_generated/R22-11/SWS_CANInterface_012/zz_generated/AUTOSAR_SWS_CANInterface_resolved.arxml')\n",
    "ids21simple = tree.xpath(\"//x:REQUIREMENT[count(.//x:L-1) = 1]/x:TRACE/x:SHORT-NAME/text()\", namespaces={'x': 'http://autosar.org/schema/r4.0'})\n",
    "text21simple = tree.xpath(\"//x:REQUIREMENT[count(.//x:L-1) = 1]//x:L-1/text()\", namespaces={'x': 'http://autosar.org/schema/r4.0'})"
   ]
  },
  {
   "cell_type": "code",
   "execution_count": null,
   "metadata": {},
   "outputs": [],
   "source": [
    "data21simple = pd.DataFrame({\"ids21\": ids21simple, \"text21\": text21simple})\n",
    "data21simple = data21simple.loc[data21simple[\"ids21\"].str[:4] != \"ECUC\"]"
   ]
  },
  {
   "cell_type": "code",
   "execution_count": null,
   "metadata": {},
   "outputs": [],
   "source": [
    "data21simple"
   ]
  },
  {
   "cell_type": "code",
   "execution_count": null,
   "metadata": {},
   "outputs": [],
   "source": [
    "datamergedsimple = pd.merge(data20simple, data21simple, how=\"outer\", left_on=\"ids20\", right_on=\"ids21\")"
   ]
  },
  {
   "cell_type": "code",
   "execution_count": null,
   "metadata": {},
   "outputs": [],
   "source": [
    "datamergedsimple[\"type\"] = \"unchanged\"\n",
    "datamergedsimple[\"type\"].loc[datamergedsimple.ids21.isna()] = \"delete\"\n",
    "datamergedsimple[\"type\"].loc[datamergedsimple.ids20.isna()] = \"new\""
   ]
  },
  {
   "cell_type": "code",
   "execution_count": null,
   "metadata": {},
   "outputs": [],
   "source": [
    "datamergedsimple.loc[0, \"text21\"] = \"asdf\""
   ]
  },
  {
   "cell_type": "code",
   "execution_count": null,
   "metadata": {},
   "outputs": [],
   "source": [
    "datamergedsimple.loc[(datamergedsimple[\"type\"] == \"unchanged\") & (datamergedsimple[\"text20\"] != datamergedsimple[\"text21\"]), \"type\"] = \"changed\""
   ]
  },
  {
   "cell_type": "code",
   "execution_count": null,
   "metadata": {},
   "outputs": [],
   "source": [
    "datamergedsimple.loc[datamergedsimple[\"ids20\"] == \"SWS_CANIF_00378\"]"
   ]
  },
  {
   "attachments": {},
   "cell_type": "markdown",
   "metadata": {},
   "source": [
    "## BS4 Table"
   ]
  },
  {
   "cell_type": "code",
   "execution_count": null,
   "metadata": {},
   "outputs": [],
   "source": [
    "with open(\"UC 3/etl_generated/R21-11/SWS_CANInterface_012/zz_generated/AUTOSAR_SWS_CANInterface_resolved.arxml\", \"r\") as file:\n",
    "    handlerA = file.read()\n",
    "\n",
    "with open(\"UC 3/etl_generated/R22-11/SWS_CANInterface_012/zz_generated/AUTOSAR_SWS_CANInterface_resolved.arxml\", \"r\") as file:\n",
    "    handlerB = file.read()\n",
    "\n",
    "soupA = bs(handlerA, \"lxml-xml\")\n",
    "list_of_all_idsA = soupA.find_all(\"SHORT-NAME\")\n",
    "soupB = bs(handlerB, \"lxml-xml\")\n",
    "list_of_all_idsB = soupB.find_all(\"SHORT-NAME\")\n",
    "\n",
    "list_of_all_idsA = [id.getText() for id in list_of_all_idsA]\n",
    "list_of_all_idsB = [id.getText() for id in list_of_all_idsB]\n",
    "\n",
    "dfA = pd.DataFrame({\"idsA\": list_of_all_idsA})\n",
    "dfB = pd.DataFrame({\"idsB\": list_of_all_idsB})\n",
    "df_merged = pd.merge(dfA, dfB, how = \"outer\", left_on = \"idsA\", right_on = \"idsB\")\n",
    "df_merged[\"type\"] = \"unchanged\"\n",
    "df_merged[\"type\"][df_merged.idsB.isna()] = \"deleted\"\n",
    "df_merged[\"type\"][df_merged.idsA.isna()] = \"new\"\n",
    "\n",
    "df = df_merged.copy()\n",
    "\n",
    "for row in df.iterrows():\n",
    "    if (soup.find('SHORT-NAME', string=row[1][0])) and (not pd.isna(row[1][0])):\n",
    "        df['Text Release A'].iloc[row[0]] = [x.getText() for x in soup.find('SHORT-NAME', string=row[1][0]).parent.find_all('L-1')]    \n",
    "\n",
    "soup = soupB\n",
    "for row in df.iterrows():\n",
    "    if (soup.find('SHORT-NAME', string=row[1][1])) and (not pd.isna(row[1][1])):\n",
    "        df['Text Release B'].iloc[row[0]] = [x.getText() for x in soup.find('SHORT-NAME', string=row[1][1]).parent.find_all('L-1')]\n"
   ]
  },
  {
   "attachments": {},
   "cell_type": "markdown",
   "metadata": {},
   "source": [
    "## Same table with xpath"
   ]
  },
  {
   "cell_type": "code",
   "execution_count": null,
   "metadata": {},
   "outputs": [],
   "source": [
    "treeA = etree.parse(\"UC 3/etl_generated/R21-11/SWS_CANInterface_012/zz_generated/AUTOSAR_SWS_CANInterface_resolved.arxml\")\n",
    "treeB = etree.parse(\"UC 3/etl_generated/R22-11/SWS_CANInterface_012/zz_generated/AUTOSAR_SWS_CANInterface_resolved.arxml\")\n",
    "\n",
    "idsA = treeA.xpath(f\"//x:SHORT-NAME/text()\", namespaces={'x': 'http://autosar.org/schema/r4.0'})\n",
    "idsB = treeB.xpath(f\"//x:SHORT-NAME/text()\", namespaces={'x': 'http://autosar.org/schema/r4.0'})\n",
    "\n",
    "dfA = pd.DataFrame({\"idsA\": idsA})\n",
    "dfB = pd.DataFrame({\"idsB\": idsB})\n",
    "df = pd.merge(dfA, dfB, how = \"outer\", left_on = \"idsA\", right_on = \"idsB\")\n",
    "df[\"type\"] = \"unchanged\"\n",
    "df[\"type\"][df_merged.idsB.isna()] = \"deleted\"\n",
    "df[\"type\"][df_merged.idsA.isna()] = \"new\"\n",
    "\n",
    "textA = []\n",
    "structureA = []\n",
    "for id in df[\"idsA\"]:\n",
    "    textA.append(treeA.xpath(f\"//x:SHORT-NAME[./text() = '{id}']/..//x:L-1//text()\", namespaces={'x': 'http://autosar.org/schema/r4.0'}))\n",
    "    structureA.append([elem.tag[32:] for elem in treeA.xpath(f\"//x:SHORT-NAME[./text() = '{id}']/../..//*\", namespaces={'x': 'http://autosar.org/schema/r4.0'})])\n",
    "\n",
    "textB = []\n",
    "structureB = []\n",
    "for id in df[\"idsB\"]:\n",
    "    textB.append(treeB.xpath(f\"//x:SHORT-NAME[./text() = '{id}']/..//x:L-1//text()\", namespaces={'x': 'http://autosar.org/schema/r4.0'}))\n",
    "    structureB.append([elem.tag[32:] for elem in treeB.xpath(f\"//x:SHORT-NAME[./text() = '{id}']/../..//*\", namespaces={'x': 'http://autosar.org/schema/r4.0'})])\n",
    "\n",
    "df[\"Text Release A\"] = textA\n",
    "df[\"Text Release B\"] = textB\n",
    "\n",
    "df[\"structureA\"] = structureA\n",
    "df[\"structureB\"] = structureB\n"
   ]
  },
  {
   "cell_type": "code",
   "execution_count": null,
   "metadata": {},
   "outputs": [],
   "source": [
    "df.loc[df[\"idsA\"].str.contains(\"ECUC\", na = False)]"
   ]
  },
  {
   "cell_type": "code",
   "execution_count": null,
   "metadata": {},
   "outputs": [],
   "source": [
    "# Add Structure to compare table\n",
    "# df[\"structureA\"] = [getStructure(\"UC 3/etl_generated/R21-11/SWS_CANInterface_012/zz_generated/AUTOSAR_SWS_CANInterface_resolved.arxml\", id) for id in df[\"idsA\"]]\n",
    "# df[\"structureB\"] = [getStructure(\"UC 3/etl_generated/R22-11/SWS_CANInterface_012/zz_generated/AUTOSAR_SWS_CANInterface_resolved.arxml\", id) for id in df[\"idsB\"]]"
   ]
  },
  {
   "cell_type": "code",
   "execution_count": null,
   "metadata": {},
   "outputs": [],
   "source": [
    "df.loc[df[\"structureA\"] != df[\"structureB\"]]"
   ]
  },
  {
   "attachments": {},
   "cell_type": "markdown",
   "metadata": {},
   "source": [
    "# Get different tag formats"
   ]
  },
  {
   "cell_type": "code",
   "execution_count": null,
   "metadata": {},
   "outputs": [],
   "source": [
    "def getStructure(tablepath, id):\n",
    "    tree = etree.parse(tablepath)\n",
    "    return [elem.tag[32:] for elem in tree.xpath(f\"//x:SHORT-NAME[./text() = '{id}']/../..//*\", namespaces={'x': 'http://autosar.org/schema/r4.0'})]"
   ]
  },
  {
   "cell_type": "code",
   "execution_count": null,
   "metadata": {},
   "outputs": [],
   "source": [
    "getStructure(\"UC 3/etl_generated/R21-11/SWS_CANInterface_012/zz_generated/AUTOSAR_SWS_CANInterface_resolved.arxml\", 'SWS_CANIF_00378')"
   ]
  },
  {
   "cell_type": "code",
   "execution_count": null,
   "metadata": {},
   "outputs": [],
   "source": [
    "tree = etree.parse(\"UC 3/etl_generated/R21-11/SWS_CANInterface_012/zz_generated/AUTOSAR_SWS_CANInterface_resolved.arxml\")\n",
    "[elem.tag[32:] for elem in tree.xpath(f\"//x:SHORT-NAME[./text() = SWS_CANIF_00378]/../..//*\", namespaces={'x': 'http://autosar.org/schema/r4.0'})]\n"
   ]
  },
  {
   "cell_type": "code",
   "execution_count": null,
   "metadata": {},
   "outputs": [],
   "source": [
    "tree.xpath(f\"//x:SHORT-NAME[./text() = 'SWS_CANIF_00378']/../..//*\", namespaces={'x': 'http://autosar.org/schema/r4.0'})"
   ]
  },
  {
   "cell_type": "code",
   "execution_count": null,
   "metadata": {},
   "outputs": [],
   "source": [
    "[elem for elem in tree.iter() if elem.tag == \"{http://autosar.org/schema/r4.0}TRACE\"]"
   ]
  },
  {
   "cell_type": "code",
   "execution_count": null,
   "metadata": {},
   "outputs": [],
   "source": [
    "for elem in tree.iter():\n",
    "    if elem.tag == \"{http://autosar.org/schema/r4.0}TRACE\":\n",
    "        print(elem.tag)"
   ]
  },
  {
   "cell_type": "code",
   "execution_count": null,
   "metadata": {},
   "outputs": [],
   "source": [
    "tree.findall(\"{http://autosar.org/schema/r4.0}REQUIREMENTS\")"
   ]
  },
  {
   "cell_type": "code",
   "execution_count": null,
   "metadata": {},
   "outputs": [],
   "source": []
  },
  {
   "cell_type": "code",
   "execution_count": null,
   "metadata": {},
   "outputs": [],
   "source": [
    "def getStructures(tablepath):\n",
    "    tree = etree.parse(tablepath)\n",
    "\n",
    "    ls = []\n",
    "    struct = []\n",
    "    for tag in [elem.tag[32:] for elem in tree.xpath(\"//*\", namespaces={'x': 'http://autosar.org/schema/r4.0'})][1:]:\n",
    "        if tag == \"REQUIREMENT\":\n",
    "            ls.append(struct)\n",
    "            struct = [tag]\n",
    "        elif tag != \"REQUIREMENT\": \n",
    "                struct.append(tag)\n",
    "    ls = ls[1:]\n",
    "\n",
    "    set = []\n",
    "    for x in ls:\n",
    "        if x not in set:\n",
    "            set.append(x)\n",
    "\n",
    "    counts = []\n",
    "    for struct in set:\n",
    "        counts.append(ls.count(struct))\n",
    "\n",
    "    rel = []\n",
    "    for count in counts:\n",
    "        rel.append(count/sum(counts))\n",
    "\n",
    "    structtable = pd.DataFrame({\"structure\": set, \"count\": counts, \"relative\": rel})\n",
    "\n",
    "    return structtable"
   ]
  },
  {
   "cell_type": "code",
   "execution_count": null,
   "metadata": {},
   "outputs": [],
   "source": [
    "s20 = getStructures('UC 3/etl_generated/R20-11/SWS_CANDriver_011/zz_generated/AUTOSAR_SWS_CANDriver_resolved.arxml')\n",
    "s20.loc[s20.relative > 0.15]"
   ]
  },
  {
   "cell_type": "code",
   "execution_count": null,
   "metadata": {},
   "outputs": [],
   "source": [
    "s21 = getStructures('UC 3/etl_generated/R21-11/SWS_CANDriver_011/zz_generated/AUTOSAR_SWS_CANDriver_resolved.arxml')\n",
    "s21.loc[s21.relative > 0.15]"
   ]
  },
  {
   "cell_type": "code",
   "execution_count": null,
   "metadata": {},
   "outputs": [],
   "source": [
    "s22 = getStructures('UC 3/etl_generated/R22-11/SWS_CANDriver_011/zz_generated/AUTOSAR_SWS_CANDriver_resolved.arxml')\n",
    "s22.loc[s22.relative > 0.15]"
   ]
  },
  {
   "cell_type": "code",
   "execution_count": null,
   "metadata": {},
   "outputs": [],
   "source": [
    "s20 = getStructures('UC 3/etl_generated/R20-11/SWS_CANDriver_011/zz_generated/AUTOSAR_SWS_CANDriver_resolved.arxml')\n",
    "\n",
    "# Filter StructureTable by number of L-1 tags\n",
    "structs = []\n",
    "counts = []\n",
    "relatives = []\n",
    "for index, row in s20.iterrows():\n",
    "    if row.structure.count(\"L-1\") == 1:\n",
    "        structs.append(row.structure)\n",
    "        counts.append(row[1])\n",
    "        relatives.append(row.relative)\n",
    "df = pd.DataFrame({\"structure\": structs, \"count\": counts, \"relative\": relatives})"
   ]
  },
  {
   "cell_type": "code",
   "execution_count": null,
   "metadata": {},
   "outputs": [],
   "source": [
    "sum(df.relative)"
   ]
  },
  {
   "cell_type": "code",
   "execution_count": null,
   "metadata": {},
   "outputs": [],
   "source": [
    "df"
   ]
  },
  {
   "cell_type": "code",
   "execution_count": null,
   "metadata": {},
   "outputs": [],
   "source": [
    "s20"
   ]
  },
  {
   "cell_type": "code",
   "execution_count": null,
   "metadata": {},
   "outputs": [],
   "source": []
  }
 ],
 "metadata": {
  "kernelspec": {
   "display_name": "unienv",
   "language": "python",
   "name": "python3"
  },
  "language_info": {
   "codemirror_mode": {
    "name": "ipython",
    "version": 3
   },
   "file_extension": ".py",
   "mimetype": "text/x-python",
   "name": "python",
   "nbconvert_exporter": "python",
   "pygments_lexer": "ipython3",
   "version": "3.8.15"
  },
  "orig_nbformat": 4,
  "vscode": {
   "interpreter": {
    "hash": "f38b949447149ea0cfab77d7ef91d4ded9cd69cfa8714290ff63f8d71753623c"
   }
  }
 },
 "nbformat": 4,
 "nbformat_minor": 2
}
