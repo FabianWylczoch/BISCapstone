{
 "cells": [
  {
   "cell_type": "code",
   "execution_count": 33,
   "metadata": {},
   "outputs": [],
   "source": [
    "from bs4 import BeautifulSoup as bs\n",
    "import lxml\n",
    "import pandas as pd"
   ]
  },
  {
   "cell_type": "code",
   "execution_count": 34,
   "metadata": {},
   "outputs": [],
   "source": [
    "with open(f\"UC_3\\\\etl_generated\\\\R20-11\\\\SWS_CANDriver_011\\\\zz_generated\\\\AUTOSAR_SWS_CANDriver_resolved.arxml\", \"r\") as file:\n",
    "    handler20 = file.read()\n",
    "\n",
    "with open(f\"UC_3\\\\etl_generated\\\\R21-11\\\\SWS_CANDriver_011\\\\zz_generated\\\\AUTOSAR_SWS_CANDriver_resolved.arxml\", \"r\") as file:\n",
    "    handler21 = file.read()"
   ]
  },
  {
   "cell_type": "code",
   "execution_count": 35,
   "metadata": {},
   "outputs": [
    {
     "name": "stdout",
     "output_type": "stream",
     "text": [
      "275\n",
      "298\n"
     ]
    }
   ],
   "source": [
    "soup20 = bs(handler20, \"lxml-xml\")\n",
    "list_of_all_ids20 = soup20.find_all(\"SHORT-NAME\")\n",
    "soup21 = bs(handler21, \"lxml-xml\")\n",
    "list_of_all_ids21 = soup21.find_all(\"SHORT-NAME\")\n",
    "print(len(set(list_of_all_ids20)))\n",
    "print(len(set(list_of_all_ids21)))\n",
    "# print(diff([soup20, soup21]))"
   ]
  },
  {
   "cell_type": "code",
   "execution_count": 36,
   "metadata": {},
   "outputs": [
    {
     "name": "stdout",
     "output_type": "stream",
     "text": [
      "['SWS_Can_91003', 'SWS_Can_00259', 'SWS_Can_91024', 'SWS_Can_00516', 'ECUC_Can_00491', 'SWS_Can_00524', 'ECUC_Can_00005', 'SWS_Can_00511', 'SWS_Can_00436', 'ECUC_Can_00498', 'SWS_Can_00429', 'SWS_Can_00058', 'SWS_Can_00224', 'SWS_Can_00235', 'ECUC_Can_00315', 'ECUC_Can_00326', 'SWS_Can_00256', 'SWS_Can_00514', 'ECUC_Can_00354', 'SWS_Can_00240', 'SWS_Can_00535', 'SWS_Can_00396', 'SWS_Can_00384', 'SWS_Can_00223', 'SWS_Can_00062', 'ECUC_Can_00482', 'SWS_Can_00026', 'SWS_Can_00198', 'ECUC_Can_00496', 'SWS_Can_00413', 'ECUC_Can_00475', 'SWS_Can_91002', 'SWS_Can_00533', 'SWS_Can_00059', 'SWS_Can_00263', 'SWS_Can_00050', 'SWS_Can_00209', 'SWS_Can_00225', 'SWS_Can_00227', 'SWS_Can_00362', 'ECUC_Can_00075', 'SWS_Can_00529', 'ECUC_Can_00438', 'SWS_Can_00255', 'ECUC_Can_00317', 'SWS_Can_00250', 'ECUC_Can_00430', 'ECUC_Can_00316', 'SWS_Can_00242', 'SWS_Can_00177', 'SWS_Can_91010', 'SWS_Can_00539', 'SWS_Can_00490', 'SWS_Can_00502', 'ECUC_Can_00484', 'SWS_Can_00219', 'SWS_Can_00056', 'SWS_Can_00442', 'SWS_Can_00024', 'SWS_Can_00402', 'ECUC_Can_00495', 'SWS_Can_91016', 'SWS_Can_00445', 'SWS_CAN_91028', 'SWS_Can_00265', 'SWS_Can_00360', 'SWS_Can_00493', 'SWS_Can_91007', 'SWS_Can_00239', 'SWS_Can_00519', 'ECUC_Can_00476', 'SWS_Can_00518', 'SWS_Can_00513', 'SWS_Can_00183', 'SWS_Can_91006', 'ECUC_Can_00383', 'SWS_Can_00528', 'SWS_Can_00274', 'SWS_Can_00276', 'SWS_Can_00237', 'SWS_Can_00370', 'SWS_Can_00206', 'SWS_Can_00016', 'SWS_Can_00020', 'SWS_Can_00403', 'SWS_Can_00395', 'SWS_Can_00048', 'SWS_Can_00174', 'SWS_Can_00507', 'SWS_Can_CONSTR_00512', 'ECUC_Can_00313', 'SWS_Can_00515', 'ECUC_Can_00106', 'ECUC_Can_00473', 'SWS_Can_00233', 'SWS_Can_00053', 'SWS_Can_91004', 'SWS_Can_00506', 'SWS_Can_00517', 'SWS_Can_00300', 'SWS_Can_00536', 'SWS_Can_00270', 'SWS_Can_91017', 'SWS_Can_00232', 'ECUC_Can_00330', 'SWS_Can_00267', 'ECUC_Can_00074', 'SWS_Can_00021', 'SWS_CAN_91025', 'ECUC_Can_00320', 'ECUC_Can_00357', 'SWS_CAN_91026', 'SWS_Can_00422', 'SWS_Can_00415', 'SWS_Can_00244', 'SWS_Can_00368', 'SWS_Can_00444', 'SWS_Can_00530', 'ECUC_Can_00064', 'ECUC_Can_00314', 'ECUC_Can_00478', 'SWS_Can_00385', 'SWS_Can_00398', 'SWS_Can_00494', 'SWS_Can_91008', 'SWS_Can_91023', 'SWS_Can_00273', 'SWS_Can_00231', 'SWS_Can_00404', 'SWS_CAN_91027', 'ECUC_Can_00490', 'ECUC_Can_00434', 'SWS_Can_00260', 'SWS_Can_00291', 'ECUC_Can_00343', 'SWS_Can_00446', 'SWS_Can_00200', 'SWS_Can_00257', 'SWS_Can_00401', 'SWS_Can_00521', 'SWS_Can_00110', 'ECUC_Can_00322', 'SWS_Can_91009', 'SWS_Can_00364', 'SWS_Can_00537', 'SWS_Can_00411', 'ECUC_Can_00471', 'SWS_Can_00079', 'ECUC_Can_00095', 'SWS_Can_00033', 'SWS_Can_00196', 'SWS_Can_00017', 'SWS_Can_00268', 'SWS_Can_00369', 'SWS_Can_00217', 'SWS_Can_00407', 'SWS_Can_00361', 'SWS_Can_00503', 'SWS_Can_00373', 'SWS_Can_00060', 'SWS_Can_91015', 'SWS_Can_91020', 'SWS_Can_00212', 'SWS_CAN_00522', 'SWS_Can_CONSTR_00508', 'SWS_Can_00525', 'ECUC_Can_00328', 'SWS_Can_00234', 'SWS_Can_00526', 'SWS_Can_00109', 'SWS_Can_00049', 'ECUC_Can_00477', 'SWS_Can_91022', 'SWS_Can_00527', 'SWS_Can_00405', 'ECUC_Can_00359', 'SWS_Can_00294', 'ECUC_Can_00376', 'SWS_Can_91013', 'SWS_Can_00039', 'SWS_Can_91005', 'SWS_Can_00500', 'SWS_Can_00112', 'SWS_Can_00280', 'SWS_Can_00261', 'SWS_Can_00007', 'ECUC_Can_00431', 'SWS_Can_00486', 'SWS_Can_00197', 'SWS_Can_00999', 'SWS_Can_00236', 'SWS_Can_00099', 'ECUC_Can_00435', 'ECUC_Can_00323', 'ECUC_Can_00355', 'SWS_Can_00103', 'ECUC_Can_00319', 'SWS_Can_00100', 'SWS_Can_00216', 'SWS_Can_00012', 'ECUC_Can_00489', 'SWS_Can_00505', 'SWS_Can_00447', 'SWS_Can_00228', 'SWS_Can_00299', 'SWS_Can_00441', 'SWS_Can_00104', 'SWS_Can_00246', 'SWS_Can_00258', 'SWS_Can_00272', 'SWS_Can_00419', 'ECUC_Can_00479', 'SWS_Can_00512', 'SWS_Can_00178', 'ECUC_Can_00494', 'SWS_Can_00386', 'SWS_Can_00501', 'ECUC_Can_00324', 'SWS_CAN_91029', 'SWS_Can_00238', 'ECUC_Can_00073', 'SWS_Can_CONSTR_00509', 'SWS_Can_00199', 'ECUC_Can_00485', 'SWS_Can_91021', 'SWS_Can_00290', 'SWS_Can_00226', 'SWS_Can_00089', 'SWS_Can_00534', 'SWS_Can_00492', 'ECUC_Can_00327', 'SWS_Can_00443', 'SWS_Can_00275', 'SWS_Can_00011', 'SWS_Can_00205', 'ECUC_Can_00481', 'SWS_Can_00504', 'SWS_Can_00208', 'SWS_Can_00531', 'SWS_Can_91011', 'SWS_CAN_00491', 'SWS_Can_00218', 'SWS_Can_00271', 'SWS_Can_00180', 'SWS_Can_00077', 'SWS_Can_00284', 'SWS_Can_00262', 'SWS_Can_00538', 'SWS_Can_00409', 'SWS_Can_00426', 'SWS_Can_00214', 'SWS_Can_00185', 'SWS_Can_00222', 'SWS_Can_00204', 'SWS_Can_00427', 'SWS_Can_00210', 'ECUC_Can_00467', 'SWS_Can_91012', 'SWS_Can_91018', 'SWS_Can_00277', 'SWS_Can_00520', 'SWS_Can_00202', 'SWS_Can_00363', 'SWS_Can_00245', 'ECUC_Can_00382', 'SWS_Can_00031', 'SWS_Can_00523', 'SWS_Can_00279', 'SWS_Can_00266', 'SWS_Can_CONSTR_00510', 'SWS_Can_00485', 'ECUC_Can_00113', 'SWS_Can_00091', 'SWS_Can_00269', 'ECUC_Can_00497', 'SWS_Can_91019', 'SWS_Can_00230', 'ECUC_Can_00387', 'SWS_Can_00264', 'SWS_Can_00423', 'ECUC_Can_00065', 'ECUC_Can_00466', 'SWS_Can_00416', 'SWS_Can_00489', 'SWS_CAN_00496', 'SWS_Can_00408', 'SWS_Can_00420', 'SWS_Can_00213', 'ECUC_Can_00318', 'ECUC_Can_00486', 'SWS_Can_00281', 'SWS_Can_CONSTR_00511', 'SWS_Can_00425', 'SWS_Can_00532', 'SWS_Can_91014', 'SWS_Can_00372', 'ECUC_Can_00492', 'ECUC_Can_00437', 'SWS_Can_00282', 'SWS_Can_00108', 'SWS_Can_00022']\n"
     ]
    }
   ],
   "source": [
    "all_ids = [x.getText() for x in list(set(list_of_all_ids20 + list_of_all_ids21))]\n",
    "print(all_ids)"
   ]
  },
  {
   "cell_type": "code",
   "execution_count": 57,
   "metadata": {},
   "outputs": [
    {
     "name": "stdout",
     "output_type": "stream",
     "text": [
      "<bound method NDFrame.head of                ids20             ids21       type\n",
      "0    [SWS_Can_00237]   [SWS_Can_00237]  unchanged\n",
      "1    [SWS_Can_00236]   [SWS_Can_00236]  unchanged\n",
      "2    [SWS_Can_00238]   [SWS_Can_00238]  unchanged\n",
      "3    [SWS_Can_00239]   [SWS_Can_00239]  unchanged\n",
      "4    [SWS_Can_00240]   [SWS_Can_00240]  unchanged\n",
      "..               ...               ...        ...\n",
      "296              NaN   [SWS_CAN_91025]        new\n",
      "297              NaN   [SWS_CAN_91027]        new\n",
      "298              NaN   [SWS_CAN_91028]        new\n",
      "299              NaN  [ECUC_Can_00497]        new\n",
      "300              NaN  [ECUC_Can_00498]        new\n",
      "\n",
      "[301 rows x 3 columns]>\n"
     ]
    }
   ],
   "source": [
    "df20 = pd.DataFrame({\"ids20\": list_of_all_ids20})\n",
    "df21 = pd.DataFrame({\"ids21\": list_of_all_ids21})\n",
    "df_merged = pd.merge(df20, df21, how = \"outer\", left_on = \"ids20\", right_on = \"ids21\")\n",
    "df_merged[\"type\"] = \"unchanged\"\n",
    "df_merged[\"type\"][df_merged.ids21.isna()] = \"delete\"\n",
    "df_merged[\"type\"][df_merged.ids20.isna()] = \"new\"\n",
    "print(df_merged.head)"
   ]
  },
  {
   "cell_type": "code",
   "execution_count": 38,
   "metadata": {},
   "outputs": [
    {
     "name": "stdout",
     "output_type": "stream",
     "text": [
      "['SWS_Can_00521', 'SWS_CAN_00522', 'SWS_Can_00523', 'SWS_Can_00524', 'SWS_Can_00525', 'SWS_Can_00526', 'SWS_Can_00527', 'SWS_Can_00528', 'SWS_Can_00529', 'SWS_Can_00530', 'SWS_Can_00531', 'SWS_Can_00532', 'SWS_Can_00533', 'SWS_Can_00534', 'SWS_Can_00535', 'SWS_Can_00536', 'SWS_Can_00537', 'SWS_Can_00538', 'SWS_Can_00539', 'SWS_CAN_91029', 'SWS_CAN_91026', 'SWS_CAN_91025', 'SWS_CAN_91027', 'SWS_CAN_91028', 'ECUC_Can_00497', 'ECUC_Can_00498']\n"
     ]
    }
   ],
   "source": [
    "print([x.getText() for x in list_of_all_ids21 if x not in list_of_all_ids20])"
   ]
  },
  {
   "cell_type": "code",
   "execution_count": 39,
   "metadata": {},
   "outputs": [
    {
     "name": "stdout",
     "output_type": "stream",
     "text": [
      "['SWS_Can_00485', 'ECUC_Can_00328', 'ECUC_Can_00466']\n"
     ]
    }
   ],
   "source": [
    "print([x.getText() for x in list_of_all_ids20 if x not in list_of_all_ids21])"
   ]
  }
 ],
 "metadata": {
  "kernelspec": {
   "display_name": "Python 3",
   "language": "python",
   "name": "python3"
  },
  "language_info": {
   "codemirror_mode": {
    "name": "ipython",
    "version": 3
   },
   "file_extension": ".py",
   "mimetype": "text/x-python",
   "name": "python",
   "nbconvert_exporter": "python",
   "pygments_lexer": "ipython3",
   "version": "3.10.4"
  },
  "orig_nbformat": 4,
  "vscode": {
   "interpreter": {
    "hash": "c6ab8a457b9224d94b38be37e0e5d21c62babaddfa7209870acc6e68f2846f2f"
   }
  }
 },
 "nbformat": 4,
 "nbformat_minor": 2
}
